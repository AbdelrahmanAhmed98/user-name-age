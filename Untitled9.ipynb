{
 "cells": [
  {
   "cell_type": "code",
   "execution_count": 2,
   "metadata": {},
   "outputs": [
    {
     "name": "stdout",
     "output_type": "stream",
     "text": [
      "Enter your name: abdelrahman\n",
      "Enter your age:23\n",
      "Hello abdelrahman, \n",
      "your age is 23 years old\n"
     ]
    }
   ],
   "source": [
    "name = input('Enter your name: ')\n",
    "name\n",
    "age = int( input('Enter your age:'))\n",
    "age\n",
    "print('Hello', name+',','\\nyour age is',age,'years old')"
   ]
  }
 ],
 "metadata": {
  "kernelspec": {
   "display_name": "Python 3",
   "language": "python",
   "name": "python3"
  },
  "language_info": {
   "codemirror_mode": {
    "name": "ipython",
    "version": 3
   },
   "file_extension": ".py",
   "mimetype": "text/x-python",
   "name": "python",
   "nbconvert_exporter": "python",
   "pygments_lexer": "ipython3",
   "version": "3.7.6"
  }
 },
 "nbformat": 4,
 "nbformat_minor": 4
}
